{
 "cells": [
  {
   "cell_type": "code",
   "execution_count": 1,
   "id": "39641dbe",
   "metadata": {},
   "outputs": [],
   "source": [
    "#import packages \n",
    "import matplotlib.pyplot as plt\n",
    "import numpy as np \n",
    "import pandas as pd \n",
    "from datetime import datetime\n",
    "from datetime import timedelta\n",
    "import seaborn as sns\n",
    "from pandas.plotting import scatter_matrix"
   ]
  },
  {
   "cell_type": "markdown",
   "id": "68876606",
   "metadata": {},
   "source": [
    "<h3>Data gathering</h3> "
   ]
  },
  {
   "cell_type": "code",
   "execution_count": 2,
   "id": "c3994b3a",
   "metadata": {},
   "outputs": [],
   "source": [
    "df_africa=pd.read_csv(\"Datasetsafrica.csv\") #datasets africa"
   ]
  },
  {
   "cell_type": "code",
   "execution_count": 3,
   "id": "21d89e94",
   "metadata": {},
   "outputs": [],
   "source": [
    "df_canada=pd.read_csv(\"Datasetscanada.csv\")  #datasets canada"
   ]
  },
  {
   "cell_type": "code",
   "execution_count": 4,
   "id": "d3c970db",
   "metadata": {},
   "outputs": [],
   "source": [
    "df_France=pd.read_csv(\"DatasetsFrance.csv\")   #datasets france"
   ]
  },
  {
   "cell_type": "code",
   "execution_count": 5,
   "id": "bc179876",
   "metadata": {},
   "outputs": [],
   "source": [
    "df_usa=pd.read_csv(\"Datasetsusa.csv\")   #datasets USA"
   ]
  },
  {
   "cell_type": "markdown",
   "id": "c2bbbcbe",
   "metadata": {},
   "source": [
    "<h3>Data assessing</h3>"
   ]
  },
  {
   "cell_type": "markdown",
   "id": "c00a4f4a",
   "metadata": {},
   "source": [
    "<h6>df_africa</h6>"
   ]
  },
  {
   "cell_type": "code",
   "execution_count": 6,
   "id": "94582ee9",
   "metadata": {},
   "outputs": [
    {
     "data": {
      "text/plain": [
       "(1169, 9)"
      ]
     },
     "execution_count": 6,
     "metadata": {},
     "output_type": "execute_result"
    }
   ],
   "source": [
    "df_africa.shape"
   ]
  },
  {
   "cell_type": "code",
   "execution_count": 7,
   "id": "e3253378",
   "metadata": {},
   "outputs": [
    {
     "name": "stdout",
     "output_type": "stream",
     "text": [
      "<class 'pandas.core.frame.DataFrame'>\n",
      "RangeIndex: 1169 entries, 0 to 1168\n",
      "Data columns (total 9 columns):\n",
      " #   Column         Non-Null Count  Dtype  \n",
      "---  ------         --------------  -----  \n",
      " 0   title          1169 non-null   object \n",
      " 1   company        1169 non-null   object \n",
      " 2   description    1169 non-null   object \n",
      " 3   onsite_remote  1169 non-null   object \n",
      " 4   salary         0 non-null      float64\n",
      " 5   location       1169 non-null   object \n",
      " 6   criteria       1169 non-null   object \n",
      " 7   posted_date    1169 non-null   object \n",
      " 8   link           1169 non-null   object \n",
      "dtypes: float64(1), object(8)\n",
      "memory usage: 82.3+ KB\n"
     ]
    }
   ],
   "source": [
    "df_africa.info()"
   ]
  },
  {
   "cell_type": "code",
   "execution_count": 8,
   "id": "c1eb5e94",
   "metadata": {},
   "outputs": [
    {
     "data": {
      "text/html": [
       "<div>\n",
       "<style scoped>\n",
       "    .dataframe tbody tr th:only-of-type {\n",
       "        vertical-align: middle;\n",
       "    }\n",
       "\n",
       "    .dataframe tbody tr th {\n",
       "        vertical-align: top;\n",
       "    }\n",
       "\n",
       "    .dataframe thead th {\n",
       "        text-align: right;\n",
       "    }\n",
       "</style>\n",
       "<table border=\"1\" class=\"dataframe\">\n",
       "  <thead>\n",
       "    <tr style=\"text-align: right;\">\n",
       "      <th></th>\n",
       "      <th>title</th>\n",
       "      <th>company</th>\n",
       "      <th>description</th>\n",
       "      <th>onsite_remote</th>\n",
       "      <th>salary</th>\n",
       "      <th>location</th>\n",
       "      <th>criteria</th>\n",
       "      <th>posted_date</th>\n",
       "      <th>link</th>\n",
       "    </tr>\n",
       "  </thead>\n",
       "  <tbody>\n",
       "  </tbody>\n",
       "</table>\n",
       "</div>"
      ],
      "text/plain": [
       "Empty DataFrame\n",
       "Columns: [title, company, description, onsite_remote, salary, location, criteria, posted_date, link]\n",
       "Index: []"
      ]
     },
     "execution_count": 8,
     "metadata": {},
     "output_type": "execute_result"
    }
   ],
   "source": [
    "df_africa[df_africa.duplicated()]"
   ]
  },
  {
   "cell_type": "code",
   "execution_count": 9,
   "id": "810d651c",
   "metadata": {},
   "outputs": [
    {
     "data": {
      "text/html": [
       "<div>\n",
       "<style scoped>\n",
       "    .dataframe tbody tr th:only-of-type {\n",
       "        vertical-align: middle;\n",
       "    }\n",
       "\n",
       "    .dataframe tbody tr th {\n",
       "        vertical-align: top;\n",
       "    }\n",
       "\n",
       "    .dataframe thead th {\n",
       "        text-align: right;\n",
       "    }\n",
       "</style>\n",
       "<table border=\"1\" class=\"dataframe\">\n",
       "  <thead>\n",
       "    <tr style=\"text-align: right;\">\n",
       "      <th></th>\n",
       "      <th>salary</th>\n",
       "    </tr>\n",
       "  </thead>\n",
       "  <tbody>\n",
       "    <tr>\n",
       "      <th>count</th>\n",
       "      <td>0.0</td>\n",
       "    </tr>\n",
       "    <tr>\n",
       "      <th>mean</th>\n",
       "      <td>NaN</td>\n",
       "    </tr>\n",
       "    <tr>\n",
       "      <th>std</th>\n",
       "      <td>NaN</td>\n",
       "    </tr>\n",
       "    <tr>\n",
       "      <th>min</th>\n",
       "      <td>NaN</td>\n",
       "    </tr>\n",
       "    <tr>\n",
       "      <th>25%</th>\n",
       "      <td>NaN</td>\n",
       "    </tr>\n",
       "    <tr>\n",
       "      <th>50%</th>\n",
       "      <td>NaN</td>\n",
       "    </tr>\n",
       "    <tr>\n",
       "      <th>75%</th>\n",
       "      <td>NaN</td>\n",
       "    </tr>\n",
       "    <tr>\n",
       "      <th>max</th>\n",
       "      <td>NaN</td>\n",
       "    </tr>\n",
       "  </tbody>\n",
       "</table>\n",
       "</div>"
      ],
      "text/plain": [
       "       salary\n",
       "count     0.0\n",
       "mean      NaN\n",
       "std       NaN\n",
       "min       NaN\n",
       "25%       NaN\n",
       "50%       NaN\n",
       "75%       NaN\n",
       "max       NaN"
      ]
     },
     "execution_count": 9,
     "metadata": {},
     "output_type": "execute_result"
    }
   ],
   "source": [
    "df_africa.describe()"
   ]
  },
  {
   "cell_type": "markdown",
   "id": "30918ec5",
   "metadata": {},
   "source": [
    "<h6>df_canada</h6>"
   ]
  },
  {
   "cell_type": "code",
   "execution_count": 10,
   "id": "2edf80b4",
   "metadata": {},
   "outputs": [
    {
     "data": {
      "text/plain": [
       "(1063, 9)"
      ]
     },
     "execution_count": 10,
     "metadata": {},
     "output_type": "execute_result"
    }
   ],
   "source": [
    "df_canada.shape"
   ]
  },
  {
   "cell_type": "code",
   "execution_count": 11,
   "id": "48ef89a8",
   "metadata": {},
   "outputs": [
    {
     "name": "stdout",
     "output_type": "stream",
     "text": [
      "<class 'pandas.core.frame.DataFrame'>\n",
      "RangeIndex: 1063 entries, 0 to 1062\n",
      "Data columns (total 9 columns):\n",
      " #   Column         Non-Null Count  Dtype \n",
      "---  ------         --------------  ----- \n",
      " 0   title          1063 non-null   object\n",
      " 1   company        1063 non-null   object\n",
      " 2   description    1063 non-null   object\n",
      " 3   onsite_remote  1063 non-null   object\n",
      " 4   salary         31 non-null     object\n",
      " 5   location       1063 non-null   object\n",
      " 6   criteria       1063 non-null   object\n",
      " 7   posted_date    1063 non-null   object\n",
      " 8   link           1063 non-null   object\n",
      "dtypes: object(9)\n",
      "memory usage: 74.9+ KB\n"
     ]
    }
   ],
   "source": [
    "df_canada.info()"
   ]
  },
  {
   "cell_type": "code",
   "execution_count": 12,
   "id": "ae44b582",
   "metadata": {},
   "outputs": [
    {
     "data": {
      "text/html": [
       "<div>\n",
       "<style scoped>\n",
       "    .dataframe tbody tr th:only-of-type {\n",
       "        vertical-align: middle;\n",
       "    }\n",
       "\n",
       "    .dataframe tbody tr th {\n",
       "        vertical-align: top;\n",
       "    }\n",
       "\n",
       "    .dataframe thead th {\n",
       "        text-align: right;\n",
       "    }\n",
       "</style>\n",
       "<table border=\"1\" class=\"dataframe\">\n",
       "  <thead>\n",
       "    <tr style=\"text-align: right;\">\n",
       "      <th></th>\n",
       "      <th>title</th>\n",
       "      <th>company</th>\n",
       "      <th>description</th>\n",
       "      <th>onsite_remote</th>\n",
       "      <th>salary</th>\n",
       "      <th>location</th>\n",
       "      <th>criteria</th>\n",
       "      <th>posted_date</th>\n",
       "      <th>link</th>\n",
       "    </tr>\n",
       "  </thead>\n",
       "  <tbody>\n",
       "  </tbody>\n",
       "</table>\n",
       "</div>"
      ],
      "text/plain": [
       "Empty DataFrame\n",
       "Columns: [title, company, description, onsite_remote, salary, location, criteria, posted_date, link]\n",
       "Index: []"
      ]
     },
     "execution_count": 12,
     "metadata": {},
     "output_type": "execute_result"
    }
   ],
   "source": [
    "df_canada[df_canada.duplicated()]"
   ]
  },
  {
   "cell_type": "code",
   "execution_count": 13,
   "id": "41eabb5d",
   "metadata": {},
   "outputs": [
    {
     "data": {
      "text/html": [
       "<div>\n",
       "<style scoped>\n",
       "    .dataframe tbody tr th:only-of-type {\n",
       "        vertical-align: middle;\n",
       "    }\n",
       "\n",
       "    .dataframe tbody tr th {\n",
       "        vertical-align: top;\n",
       "    }\n",
       "\n",
       "    .dataframe thead th {\n",
       "        text-align: right;\n",
       "    }\n",
       "</style>\n",
       "<table border=\"1\" class=\"dataframe\">\n",
       "  <thead>\n",
       "    <tr style=\"text-align: right;\">\n",
       "      <th></th>\n",
       "      <th>title</th>\n",
       "      <th>company</th>\n",
       "      <th>description</th>\n",
       "      <th>onsite_remote</th>\n",
       "      <th>salary</th>\n",
       "      <th>location</th>\n",
       "      <th>criteria</th>\n",
       "      <th>posted_date</th>\n",
       "      <th>link</th>\n",
       "    </tr>\n",
       "  </thead>\n",
       "  <tbody>\n",
       "    <tr>\n",
       "      <th>count</th>\n",
       "      <td>1063</td>\n",
       "      <td>1063</td>\n",
       "      <td>1063</td>\n",
       "      <td>1063</td>\n",
       "      <td>31</td>\n",
       "      <td>1063</td>\n",
       "      <td>1063</td>\n",
       "      <td>1063</td>\n",
       "      <td>1063</td>\n",
       "    </tr>\n",
       "    <tr>\n",
       "      <th>unique</th>\n",
       "      <td>51</td>\n",
       "      <td>78</td>\n",
       "      <td>88</td>\n",
       "      <td>3</td>\n",
       "      <td>4</td>\n",
       "      <td>36</td>\n",
       "      <td>66</td>\n",
       "      <td>37</td>\n",
       "      <td>1063</td>\n",
       "    </tr>\n",
       "    <tr>\n",
       "      <th>top</th>\n",
       "      <td>Data Analyst</td>\n",
       "      <td>Trioworld</td>\n",
       "      <td>Nan</td>\n",
       "      <td>hybrid</td>\n",
       "      <td>$90,000.00\\r\\n            -\\r\\n            $12...</td>\n",
       "      <td>Toronto, Ontario, Canada</td>\n",
       "      <td>[]</td>\n",
       "      <td>2023-01-31</td>\n",
       "      <td>https://ca.linkedin.com/jobs/view/data-analyst...</td>\n",
       "    </tr>\n",
       "    <tr>\n",
       "      <th>freq</th>\n",
       "      <td>445</td>\n",
       "      <td>99</td>\n",
       "      <td>736</td>\n",
       "      <td>450</td>\n",
       "      <td>18</td>\n",
       "      <td>245</td>\n",
       "      <td>736</td>\n",
       "      <td>133</td>\n",
       "      <td>1</td>\n",
       "    </tr>\n",
       "  </tbody>\n",
       "</table>\n",
       "</div>"
      ],
      "text/plain": [
       "               title    company description onsite_remote  \\\n",
       "count           1063       1063        1063          1063   \n",
       "unique            51         78          88             3   \n",
       "top     Data Analyst  Trioworld         Nan        hybrid   \n",
       "freq             445         99         736           450   \n",
       "\n",
       "                                                   salary  \\\n",
       "count                                                  31   \n",
       "unique                                                  4   \n",
       "top     $90,000.00\\r\\n            -\\r\\n            $12...   \n",
       "freq                                                   18   \n",
       "\n",
       "                        location criteria posted_date  \\\n",
       "count                       1063     1063        1063   \n",
       "unique                        36       66          37   \n",
       "top     Toronto, Ontario, Canada       []  2023-01-31   \n",
       "freq                         245      736         133   \n",
       "\n",
       "                                                     link  \n",
       "count                                                1063  \n",
       "unique                                               1063  \n",
       "top     https://ca.linkedin.com/jobs/view/data-analyst...  \n",
       "freq                                                    1  "
      ]
     },
     "execution_count": 13,
     "metadata": {},
     "output_type": "execute_result"
    }
   ],
   "source": [
    "df_canada.describe()"
   ]
  },
  {
   "cell_type": "markdown",
   "id": "f1b72393",
   "metadata": {},
   "source": [
    "<h6>df_France</h6>"
   ]
  },
  {
   "cell_type": "code",
   "execution_count": 14,
   "id": "486d96a2",
   "metadata": {},
   "outputs": [
    {
     "data": {
      "text/plain": [
       "(964, 9)"
      ]
     },
     "execution_count": 14,
     "metadata": {},
     "output_type": "execute_result"
    }
   ],
   "source": [
    "df_France.shape"
   ]
  },
  {
   "cell_type": "code",
   "execution_count": 15,
   "id": "bdf16c00",
   "metadata": {},
   "outputs": [
    {
     "name": "stdout",
     "output_type": "stream",
     "text": [
      "<class 'pandas.core.frame.DataFrame'>\n",
      "RangeIndex: 964 entries, 0 to 963\n",
      "Data columns (total 9 columns):\n",
      " #   Column         Non-Null Count  Dtype \n",
      "---  ------         --------------  ----- \n",
      " 0   title          964 non-null    object\n",
      " 1   company        964 non-null    object\n",
      " 2   description    964 non-null    object\n",
      " 3   onsite_remote  964 non-null    object\n",
      " 4   salary         27 non-null     object\n",
      " 5   location       964 non-null    object\n",
      " 6   criteria       964 non-null    object\n",
      " 7   posted_date    964 non-null    object\n",
      " 8   link           964 non-null    object\n",
      "dtypes: object(9)\n",
      "memory usage: 67.9+ KB\n"
     ]
    }
   ],
   "source": [
    "df_France.info()"
   ]
  },
  {
   "cell_type": "code",
   "execution_count": 16,
   "id": "ba0d4aca",
   "metadata": {},
   "outputs": [
    {
     "data": {
      "text/html": [
       "<div>\n",
       "<style scoped>\n",
       "    .dataframe tbody tr th:only-of-type {\n",
       "        vertical-align: middle;\n",
       "    }\n",
       "\n",
       "    .dataframe tbody tr th {\n",
       "        vertical-align: top;\n",
       "    }\n",
       "\n",
       "    .dataframe thead th {\n",
       "        text-align: right;\n",
       "    }\n",
       "</style>\n",
       "<table border=\"1\" class=\"dataframe\">\n",
       "  <thead>\n",
       "    <tr style=\"text-align: right;\">\n",
       "      <th></th>\n",
       "      <th>title</th>\n",
       "      <th>company</th>\n",
       "      <th>description</th>\n",
       "      <th>onsite_remote</th>\n",
       "      <th>salary</th>\n",
       "      <th>location</th>\n",
       "      <th>criteria</th>\n",
       "      <th>posted_date</th>\n",
       "      <th>link</th>\n",
       "    </tr>\n",
       "  </thead>\n",
       "  <tbody>\n",
       "  </tbody>\n",
       "</table>\n",
       "</div>"
      ],
      "text/plain": [
       "Empty DataFrame\n",
       "Columns: [title, company, description, onsite_remote, salary, location, criteria, posted_date, link]\n",
       "Index: []"
      ]
     },
     "execution_count": 16,
     "metadata": {},
     "output_type": "execute_result"
    }
   ],
   "source": [
    "df_France[df_France.duplicated()]"
   ]
  },
  {
   "cell_type": "code",
   "execution_count": 17,
   "id": "c152fee7",
   "metadata": {},
   "outputs": [
    {
     "data": {
      "text/html": [
       "<div>\n",
       "<style scoped>\n",
       "    .dataframe tbody tr th:only-of-type {\n",
       "        vertical-align: middle;\n",
       "    }\n",
       "\n",
       "    .dataframe tbody tr th {\n",
       "        vertical-align: top;\n",
       "    }\n",
       "\n",
       "    .dataframe thead th {\n",
       "        text-align: right;\n",
       "    }\n",
       "</style>\n",
       "<table border=\"1\" class=\"dataframe\">\n",
       "  <thead>\n",
       "    <tr style=\"text-align: right;\">\n",
       "      <th></th>\n",
       "      <th>title</th>\n",
       "      <th>company</th>\n",
       "      <th>description</th>\n",
       "      <th>onsite_remote</th>\n",
       "      <th>salary</th>\n",
       "      <th>location</th>\n",
       "      <th>criteria</th>\n",
       "      <th>posted_date</th>\n",
       "      <th>link</th>\n",
       "    </tr>\n",
       "  </thead>\n",
       "  <tbody>\n",
       "    <tr>\n",
       "      <th>count</th>\n",
       "      <td>964</td>\n",
       "      <td>964</td>\n",
       "      <td>964</td>\n",
       "      <td>964</td>\n",
       "      <td>27</td>\n",
       "      <td>964</td>\n",
       "      <td>964</td>\n",
       "      <td>964</td>\n",
       "      <td>964</td>\n",
       "    </tr>\n",
       "    <tr>\n",
       "      <th>unique</th>\n",
       "      <td>53</td>\n",
       "      <td>68</td>\n",
       "      <td>70</td>\n",
       "      <td>3</td>\n",
       "      <td>3</td>\n",
       "      <td>40</td>\n",
       "      <td>67</td>\n",
       "      <td>38</td>\n",
       "      <td>964</td>\n",
       "    </tr>\n",
       "    <tr>\n",
       "      <th>top</th>\n",
       "      <td>Online Data Analyst</td>\n",
       "      <td>TELUS International</td>\n",
       "      <td>Nan</td>\n",
       "      <td>remote</td>\n",
       "      <td>€55,000.00\\r\\n            -\\r\\n            €65...</td>\n",
       "      <td>Paris, Île-de-France, France</td>\n",
       "      <td>[]</td>\n",
       "      <td>2023-01-13</td>\n",
       "      <td>https://fr.linkedin.com/jobs/view/data-analyst...</td>\n",
       "    </tr>\n",
       "    <tr>\n",
       "      <th>freq</th>\n",
       "      <td>328</td>\n",
       "      <td>330</td>\n",
       "      <td>442</td>\n",
       "      <td>625</td>\n",
       "      <td>23</td>\n",
       "      <td>249</td>\n",
       "      <td>442</td>\n",
       "      <td>267</td>\n",
       "      <td>1</td>\n",
       "    </tr>\n",
       "  </tbody>\n",
       "</table>\n",
       "</div>"
      ],
      "text/plain": [
       "                      title              company description onsite_remote  \\\n",
       "count                   964                  964         964           964   \n",
       "unique                   53                   68          70             3   \n",
       "top     Online Data Analyst  TELUS International         Nan        remote   \n",
       "freq                    328                  330         442           625   \n",
       "\n",
       "                                                   salary  \\\n",
       "count                                                  27   \n",
       "unique                                                  3   \n",
       "top     €55,000.00\\r\\n            -\\r\\n            €65...   \n",
       "freq                                                   23   \n",
       "\n",
       "                            location criteria posted_date  \\\n",
       "count                            964      964         964   \n",
       "unique                            40       67          38   \n",
       "top     Paris, Île-de-France, France       []  2023-01-13   \n",
       "freq                             249      442         267   \n",
       "\n",
       "                                                     link  \n",
       "count                                                 964  \n",
       "unique                                                964  \n",
       "top     https://fr.linkedin.com/jobs/view/data-analyst...  \n",
       "freq                                                    1  "
      ]
     },
     "execution_count": 17,
     "metadata": {},
     "output_type": "execute_result"
    }
   ],
   "source": [
    "df_France.describe()"
   ]
  },
  {
   "cell_type": "markdown",
   "id": "37958766",
   "metadata": {},
   "source": [
    "<h6>df_usa</h6>"
   ]
  },
  {
   "cell_type": "code",
   "execution_count": 18,
   "id": "101104d2",
   "metadata": {},
   "outputs": [
    {
     "data": {
      "text/plain": [
       "(600, 9)"
      ]
     },
     "execution_count": 18,
     "metadata": {},
     "output_type": "execute_result"
    }
   ],
   "source": [
    "df_usa.shape"
   ]
  },
  {
   "cell_type": "code",
   "execution_count": 19,
   "id": "010dad43",
   "metadata": {},
   "outputs": [
    {
     "name": "stdout",
     "output_type": "stream",
     "text": [
      "<class 'pandas.core.frame.DataFrame'>\n",
      "RangeIndex: 600 entries, 0 to 599\n",
      "Data columns (total 9 columns):\n",
      " #   Column         Non-Null Count  Dtype \n",
      "---  ------         --------------  ----- \n",
      " 0   title          600 non-null    object\n",
      " 1   company        600 non-null    object\n",
      " 2   description    600 non-null    object\n",
      " 3   onsite_remote  600 non-null    object\n",
      " 4   salary         218 non-null    object\n",
      " 5   location       600 non-null    object\n",
      " 6   criteria       600 non-null    object\n",
      " 7   posted_date    600 non-null    object\n",
      " 8   link           600 non-null    object\n",
      "dtypes: object(9)\n",
      "memory usage: 42.3+ KB\n"
     ]
    }
   ],
   "source": [
    "df_usa.info()"
   ]
  },
  {
   "cell_type": "code",
   "execution_count": 20,
   "id": "dbcc4f88",
   "metadata": {},
   "outputs": [
    {
     "data": {
      "text/html": [
       "<div>\n",
       "<style scoped>\n",
       "    .dataframe tbody tr th:only-of-type {\n",
       "        vertical-align: middle;\n",
       "    }\n",
       "\n",
       "    .dataframe tbody tr th {\n",
       "        vertical-align: top;\n",
       "    }\n",
       "\n",
       "    .dataframe thead th {\n",
       "        text-align: right;\n",
       "    }\n",
       "</style>\n",
       "<table border=\"1\" class=\"dataframe\">\n",
       "  <thead>\n",
       "    <tr style=\"text-align: right;\">\n",
       "      <th></th>\n",
       "      <th>title</th>\n",
       "      <th>company</th>\n",
       "      <th>description</th>\n",
       "      <th>onsite_remote</th>\n",
       "      <th>salary</th>\n",
       "      <th>location</th>\n",
       "      <th>criteria</th>\n",
       "      <th>posted_date</th>\n",
       "      <th>link</th>\n",
       "    </tr>\n",
       "  </thead>\n",
       "  <tbody>\n",
       "  </tbody>\n",
       "</table>\n",
       "</div>"
      ],
      "text/plain": [
       "Empty DataFrame\n",
       "Columns: [title, company, description, onsite_remote, salary, location, criteria, posted_date, link]\n",
       "Index: []"
      ]
     },
     "execution_count": 20,
     "metadata": {},
     "output_type": "execute_result"
    }
   ],
   "source": [
    "df_usa[df_usa.duplicated()]"
   ]
  },
  {
   "cell_type": "code",
   "execution_count": 21,
   "id": "2a5c7c30",
   "metadata": {},
   "outputs": [
    {
     "data": {
      "text/html": [
       "<div>\n",
       "<style scoped>\n",
       "    .dataframe tbody tr th:only-of-type {\n",
       "        vertical-align: middle;\n",
       "    }\n",
       "\n",
       "    .dataframe tbody tr th {\n",
       "        vertical-align: top;\n",
       "    }\n",
       "\n",
       "    .dataframe thead th {\n",
       "        text-align: right;\n",
       "    }\n",
       "</style>\n",
       "<table border=\"1\" class=\"dataframe\">\n",
       "  <thead>\n",
       "    <tr style=\"text-align: right;\">\n",
       "      <th></th>\n",
       "      <th>title</th>\n",
       "      <th>company</th>\n",
       "      <th>description</th>\n",
       "      <th>onsite_remote</th>\n",
       "      <th>salary</th>\n",
       "      <th>location</th>\n",
       "      <th>criteria</th>\n",
       "      <th>posted_date</th>\n",
       "      <th>link</th>\n",
       "    </tr>\n",
       "  </thead>\n",
       "  <tbody>\n",
       "    <tr>\n",
       "      <th>count</th>\n",
       "      <td>600</td>\n",
       "      <td>600</td>\n",
       "      <td>600</td>\n",
       "      <td>600</td>\n",
       "      <td>218</td>\n",
       "      <td>600</td>\n",
       "      <td>600</td>\n",
       "      <td>600</td>\n",
       "      <td>600</td>\n",
       "    </tr>\n",
       "    <tr>\n",
       "      <th>unique</th>\n",
       "      <td>23</td>\n",
       "      <td>96</td>\n",
       "      <td>80</td>\n",
       "      <td>3</td>\n",
       "      <td>31</td>\n",
       "      <td>58</td>\n",
       "      <td>63</td>\n",
       "      <td>26</td>\n",
       "      <td>600</td>\n",
       "    </tr>\n",
       "    <tr>\n",
       "      <th>top</th>\n",
       "      <td>Data Analyst</td>\n",
       "      <td>American Technology Consulting - ATC</td>\n",
       "      <td>Nan</td>\n",
       "      <td>onsite</td>\n",
       "      <td>$35.00\\r\\n            -\\r\\n            $40.00</td>\n",
       "      <td>United States</td>\n",
       "      <td>[]</td>\n",
       "      <td>2023-02-01</td>\n",
       "      <td>https://www.linkedin.com/jobs/view/data-analys...</td>\n",
       "    </tr>\n",
       "    <tr>\n",
       "      <th>freq</th>\n",
       "      <td>489</td>\n",
       "      <td>19</td>\n",
       "      <td>245</td>\n",
       "      <td>400</td>\n",
       "      <td>17</td>\n",
       "      <td>85</td>\n",
       "      <td>245</td>\n",
       "      <td>108</td>\n",
       "      <td>1</td>\n",
       "    </tr>\n",
       "  </tbody>\n",
       "</table>\n",
       "</div>"
      ],
      "text/plain": [
       "               title                               company description  \\\n",
       "count            600                                   600         600   \n",
       "unique            23                                    96          80   \n",
       "top     Data Analyst  American Technology Consulting - ATC         Nan   \n",
       "freq             489                                    19         245   \n",
       "\n",
       "       onsite_remote                                         salary  \\\n",
       "count            600                                            218   \n",
       "unique             3                                             31   \n",
       "top           onsite  $35.00\\r\\n            -\\r\\n            $40.00   \n",
       "freq             400                                             17   \n",
       "\n",
       "             location criteria posted_date  \\\n",
       "count             600      600         600   \n",
       "unique             58       63          26   \n",
       "top     United States       []  2023-02-01   \n",
       "freq               85      245         108   \n",
       "\n",
       "                                                     link  \n",
       "count                                                 600  \n",
       "unique                                                600  \n",
       "top     https://www.linkedin.com/jobs/view/data-analys...  \n",
       "freq                                                    1  "
      ]
     },
     "execution_count": 21,
     "metadata": {},
     "output_type": "execute_result"
    }
   ],
   "source": [
    "df_usa.describe()"
   ]
  },
  {
   "cell_type": "markdown",
   "id": "4a1b9d24",
   "metadata": {},
   "source": [
    "<h6>data assessing summary:</h6><br>\n",
    "***The column salary is object instead of float <br>\n",
    "***the columns are:<br>\n",
    "    --title:title of the job<br>\n",
    "    --company:company that offers job<br>\n",
    "    --description:job description <br>\n",
    "    --onsite remote: on-site,remotely or hybrid<br>\n",
    "    --salary:proposed salary <br>\n",
    "    --location:working location<br>\n",
    "    --criteria:work criteria<br>\n",
    "    --posted_date: date the poste <br>\n",
    "    --link: link the job"
   ]
  },
  {
   "cell_type": "markdown",
   "id": "37188060",
   "metadata": {},
   "source": [
    "<h3>Data cleaning</h3>"
   ]
  },
  {
   "cell_type": "markdown",
   "id": "bee9fa59",
   "metadata": {},
   "source": [
    "<h6>Define</h6>"
   ]
  },
  {
   "cell_type": "markdown",
   "id": "7dcc2ff7",
   "metadata": {},
   "source": [
    "join dataframe "
   ]
  },
  {
   "cell_type": "markdown",
   "id": "2c5c5194",
   "metadata": {},
   "source": [
    "<h6>Code</h6>"
   ]
  },
  {
   "cell_type": "code",
   "execution_count": 22,
   "id": "74497f7e",
   "metadata": {},
   "outputs": [],
   "source": [
    "all_data = [df_canada,df_africa,df_France,df_usa]\n",
    "df = pd.concat(all_data)"
   ]
  },
  {
   "cell_type": "markdown",
   "id": "2b6cc28e",
   "metadata": {},
   "source": [
    "<h6>Test</h6>"
   ]
  },
  {
   "cell_type": "code",
   "execution_count": 23,
   "id": "da5d5241",
   "metadata": {},
   "outputs": [
    {
     "data": {
      "text/html": [
       "<div>\n",
       "<style scoped>\n",
       "    .dataframe tbody tr th:only-of-type {\n",
       "        vertical-align: middle;\n",
       "    }\n",
       "\n",
       "    .dataframe tbody tr th {\n",
       "        vertical-align: top;\n",
       "    }\n",
       "\n",
       "    .dataframe thead th {\n",
       "        text-align: right;\n",
       "    }\n",
       "</style>\n",
       "<table border=\"1\" class=\"dataframe\">\n",
       "  <thead>\n",
       "    <tr style=\"text-align: right;\">\n",
       "      <th></th>\n",
       "      <th>title</th>\n",
       "      <th>company</th>\n",
       "      <th>description</th>\n",
       "      <th>onsite_remote</th>\n",
       "      <th>salary</th>\n",
       "      <th>location</th>\n",
       "      <th>criteria</th>\n",
       "      <th>posted_date</th>\n",
       "      <th>link</th>\n",
       "    </tr>\n",
       "  </thead>\n",
       "  <tbody>\n",
       "    <tr>\n",
       "      <th>0</th>\n",
       "      <td>Data Analyst</td>\n",
       "      <td>LTI - Larsen &amp; Toubro Infotech</td>\n",
       "      <td>A little about us...LTIMindtree is a global te...</td>\n",
       "      <td>onsite</td>\n",
       "      <td>NaN</td>\n",
       "      <td>Toronto, Ontario, Canada</td>\n",
       "      <td>[{'Seniority level': 'Mid-Senior level'}, {'Em...</td>\n",
       "      <td>2023-01-19</td>\n",
       "      <td>https://ca.linkedin.com/jobs/view/data-analyst...</td>\n",
       "    </tr>\n",
       "    <tr>\n",
       "      <th>1</th>\n",
       "      <td>Junior Data Analyst</td>\n",
       "      <td>Altrio</td>\n",
       "      <td>We are looking for people passionate about dat...</td>\n",
       "      <td>onsite</td>\n",
       "      <td>NaN</td>\n",
       "      <td>Toronto, Ontario, Canada</td>\n",
       "      <td>[{'Seniority level': 'Associate'}, {'Employmen...</td>\n",
       "      <td>2023-01-17</td>\n",
       "      <td>https://ca.linkedin.com/jobs/view/junior-data-...</td>\n",
       "    </tr>\n",
       "    <tr>\n",
       "      <th>2</th>\n",
       "      <td>Data Analyst</td>\n",
       "      <td>Altrio</td>\n",
       "      <td>We are looking for people passionate about dat...</td>\n",
       "      <td>onsite</td>\n",
       "      <td>NaN</td>\n",
       "      <td>Toronto, Ontario, Canada</td>\n",
       "      <td>[{'Seniority level': 'Not Applicable'}, {'Empl...</td>\n",
       "      <td>2023-01-17</td>\n",
       "      <td>https://ca.linkedin.com/jobs/view/data-analyst...</td>\n",
       "    </tr>\n",
       "    <tr>\n",
       "      <th>3</th>\n",
       "      <td>Data Analyst</td>\n",
       "      <td>B3 Systems</td>\n",
       "      <td>The ideal candidate will use their passion for...</td>\n",
       "      <td>onsite</td>\n",
       "      <td>NaN</td>\n",
       "      <td>Toronto, Ontario, Canada</td>\n",
       "      <td>[{'Employment type': 'Full-time'}]</td>\n",
       "      <td>2022-11-18</td>\n",
       "      <td>https://ca.linkedin.com/jobs/view/data-analyst...</td>\n",
       "    </tr>\n",
       "    <tr>\n",
       "      <th>4</th>\n",
       "      <td>Data Analyst</td>\n",
       "      <td>Flair Airlines</td>\n",
       "      <td>Want to be part of a team that's changing the ...</td>\n",
       "      <td>onsite</td>\n",
       "      <td>NaN</td>\n",
       "      <td>Edmonton, Alberta, Canada</td>\n",
       "      <td>[{'Seniority level': 'Entry level'}, {'Employm...</td>\n",
       "      <td>2023-01-27</td>\n",
       "      <td>https://ca.linkedin.com/jobs/view/data-analyst...</td>\n",
       "    </tr>\n",
       "    <tr>\n",
       "      <th>...</th>\n",
       "      <td>...</td>\n",
       "      <td>...</td>\n",
       "      <td>...</td>\n",
       "      <td>...</td>\n",
       "      <td>...</td>\n",
       "      <td>...</td>\n",
       "      <td>...</td>\n",
       "      <td>...</td>\n",
       "      <td>...</td>\n",
       "    </tr>\n",
       "    <tr>\n",
       "      <th>595</th>\n",
       "      <td>Data Analyst</td>\n",
       "      <td>MATRIX Resources</td>\n",
       "      <td>Nan</td>\n",
       "      <td>hybrid</td>\n",
       "      <td>$100,000.00\\r\\n            -\\r\\n            $1...</td>\n",
       "      <td>Vance, AL</td>\n",
       "      <td>[]</td>\n",
       "      <td>2023-01-17</td>\n",
       "      <td>https://www.linkedin.com/jobs/view/data-analys...</td>\n",
       "    </tr>\n",
       "    <tr>\n",
       "      <th>596</th>\n",
       "      <td>Data Analyst</td>\n",
       "      <td>At-Bay</td>\n",
       "      <td>Nan</td>\n",
       "      <td>hybrid</td>\n",
       "      <td>NaN</td>\n",
       "      <td>New York, NY</td>\n",
       "      <td>[]</td>\n",
       "      <td>2023-01-31</td>\n",
       "      <td>https://www.linkedin.com/jobs/view/data-analys...</td>\n",
       "    </tr>\n",
       "    <tr>\n",
       "      <th>597</th>\n",
       "      <td>Data Analyst</td>\n",
       "      <td>Intelliswift Software, Inc.</td>\n",
       "      <td>Nan</td>\n",
       "      <td>hybrid</td>\n",
       "      <td>$45.00\\r\\n            -\\r\\n            $50.00</td>\n",
       "      <td>San Jose, CA</td>\n",
       "      <td>[]</td>\n",
       "      <td>2023-01-13</td>\n",
       "      <td>https://www.linkedin.com/jobs/view/data-analys...</td>\n",
       "    </tr>\n",
       "    <tr>\n",
       "      <th>598</th>\n",
       "      <td>Data Analyst</td>\n",
       "      <td>NICE Actimize</td>\n",
       "      <td>Nan</td>\n",
       "      <td>hybrid</td>\n",
       "      <td>NaN</td>\n",
       "      <td>Hoboken, NJ</td>\n",
       "      <td>[]</td>\n",
       "      <td>2023-01-11</td>\n",
       "      <td>https://www.linkedin.com/jobs/view/data-analys...</td>\n",
       "    </tr>\n",
       "    <tr>\n",
       "      <th>599</th>\n",
       "      <td>Data Analyst</td>\n",
       "      <td>BayOne Solutions</td>\n",
       "      <td>Nan</td>\n",
       "      <td>hybrid</td>\n",
       "      <td>$35.00\\r\\n            -\\r\\n            $40.00</td>\n",
       "      <td>Austin, TX</td>\n",
       "      <td>[]</td>\n",
       "      <td>2023-01-31</td>\n",
       "      <td>https://www.linkedin.com/jobs/view/data-analys...</td>\n",
       "    </tr>\n",
       "  </tbody>\n",
       "</table>\n",
       "<p>3796 rows × 9 columns</p>\n",
       "</div>"
      ],
      "text/plain": [
       "                   title                         company  \\\n",
       "0           Data Analyst  LTI - Larsen & Toubro Infotech   \n",
       "1    Junior Data Analyst                          Altrio   \n",
       "2           Data Analyst                          Altrio   \n",
       "3           Data Analyst                      B3 Systems   \n",
       "4           Data Analyst                  Flair Airlines   \n",
       "..                   ...                             ...   \n",
       "595         Data Analyst                MATRIX Resources   \n",
       "596         Data Analyst                          At-Bay   \n",
       "597         Data Analyst     Intelliswift Software, Inc.   \n",
       "598         Data Analyst                   NICE Actimize   \n",
       "599         Data Analyst                BayOne Solutions   \n",
       "\n",
       "                                           description onsite_remote  \\\n",
       "0    A little about us...LTIMindtree is a global te...        onsite   \n",
       "1    We are looking for people passionate about dat...        onsite   \n",
       "2    We are looking for people passionate about dat...        onsite   \n",
       "3    The ideal candidate will use their passion for...        onsite   \n",
       "4    Want to be part of a team that's changing the ...        onsite   \n",
       "..                                                 ...           ...   \n",
       "595                                                Nan        hybrid   \n",
       "596                                                Nan        hybrid   \n",
       "597                                                Nan        hybrid   \n",
       "598                                                Nan        hybrid   \n",
       "599                                                Nan        hybrid   \n",
       "\n",
       "                                                salary  \\\n",
       "0                                                  NaN   \n",
       "1                                                  NaN   \n",
       "2                                                  NaN   \n",
       "3                                                  NaN   \n",
       "4                                                  NaN   \n",
       "..                                                 ...   \n",
       "595  $100,000.00\\r\\n            -\\r\\n            $1...   \n",
       "596                                                NaN   \n",
       "597      $45.00\\r\\n            -\\r\\n            $50.00   \n",
       "598                                                NaN   \n",
       "599      $35.00\\r\\n            -\\r\\n            $40.00   \n",
       "\n",
       "                      location  \\\n",
       "0     Toronto, Ontario, Canada   \n",
       "1     Toronto, Ontario, Canada   \n",
       "2     Toronto, Ontario, Canada   \n",
       "3     Toronto, Ontario, Canada   \n",
       "4    Edmonton, Alberta, Canada   \n",
       "..                         ...   \n",
       "595                  Vance, AL   \n",
       "596               New York, NY   \n",
       "597               San Jose, CA   \n",
       "598                Hoboken, NJ   \n",
       "599                 Austin, TX   \n",
       "\n",
       "                                              criteria posted_date  \\\n",
       "0    [{'Seniority level': 'Mid-Senior level'}, {'Em...  2023-01-19   \n",
       "1    [{'Seniority level': 'Associate'}, {'Employmen...  2023-01-17   \n",
       "2    [{'Seniority level': 'Not Applicable'}, {'Empl...  2023-01-17   \n",
       "3                   [{'Employment type': 'Full-time'}]  2022-11-18   \n",
       "4    [{'Seniority level': 'Entry level'}, {'Employm...  2023-01-27   \n",
       "..                                                 ...         ...   \n",
       "595                                                 []  2023-01-17   \n",
       "596                                                 []  2023-01-31   \n",
       "597                                                 []  2023-01-13   \n",
       "598                                                 []  2023-01-11   \n",
       "599                                                 []  2023-01-31   \n",
       "\n",
       "                                                  link  \n",
       "0    https://ca.linkedin.com/jobs/view/data-analyst...  \n",
       "1    https://ca.linkedin.com/jobs/view/junior-data-...  \n",
       "2    https://ca.linkedin.com/jobs/view/data-analyst...  \n",
       "3    https://ca.linkedin.com/jobs/view/data-analyst...  \n",
       "4    https://ca.linkedin.com/jobs/view/data-analyst...  \n",
       "..                                                 ...  \n",
       "595  https://www.linkedin.com/jobs/view/data-analys...  \n",
       "596  https://www.linkedin.com/jobs/view/data-analys...  \n",
       "597  https://www.linkedin.com/jobs/view/data-analys...  \n",
       "598  https://www.linkedin.com/jobs/view/data-analys...  \n",
       "599  https://www.linkedin.com/jobs/view/data-analys...  \n",
       "\n",
       "[3796 rows x 9 columns]"
      ]
     },
     "execution_count": 23,
     "metadata": {},
     "output_type": "execute_result"
    }
   ],
   "source": [
    "df"
   ]
  },
  {
   "cell_type": "markdown",
   "id": "42f34cd6",
   "metadata": {},
   "source": [
    "<h6>Define</h6>"
   ]
  },
  {
   "cell_type": "markdown",
   "id": "c1feb375",
   "metadata": {},
   "source": [
    "convert the type"
   ]
  },
  {
   "cell_type": "markdown",
   "id": "2157da81",
   "metadata": {},
   "source": [
    "<h6>Code</h6>"
   ]
  },
  {
   "cell_type": "code",
   "execution_count": 35,
   "id": "4308af20",
   "metadata": {},
   "outputs": [],
   "source": [
    "df.posted_date = pd.to_datetime(df['posted_date'])"
   ]
  },
  {
   "cell_type": "markdown",
   "id": "39677841",
   "metadata": {},
   "source": [
    "<h6>Test</h6>\n"
   ]
  },
  {
   "cell_type": "code",
   "execution_count": 36,
   "id": "bf4d5f71",
   "metadata": {},
   "outputs": [
    {
     "name": "stdout",
     "output_type": "stream",
     "text": [
      "<class 'pandas.core.frame.DataFrame'>\n",
      "Int64Index: 3796 entries, 0 to 599\n",
      "Data columns (total 9 columns):\n",
      " #   Column         Non-Null Count  Dtype         \n",
      "---  ------         --------------  -----         \n",
      " 0   title          3796 non-null   object        \n",
      " 1   company        3796 non-null   object        \n",
      " 2   description    3796 non-null   object        \n",
      " 3   onsite_remote  3796 non-null   object        \n",
      " 4   salary         276 non-null    object        \n",
      " 5   location       3796 non-null   object        \n",
      " 6   criteria       3796 non-null   object        \n",
      " 7   posted_date    3796 non-null   datetime64[ns]\n",
      " 8   link           3796 non-null   object        \n",
      "dtypes: datetime64[ns](1), object(8)\n",
      "memory usage: 296.6+ KB\n"
     ]
    }
   ],
   "source": [
    "df.info()"
   ]
  },
  {
   "cell_type": "markdown",
   "id": "5b060082",
   "metadata": {},
   "source": [
    "<h3>Data analysing and visualization</h3>"
   ]
  },
  {
   "cell_type": "code",
   "execution_count": 25,
   "id": "a1425d72",
   "metadata": {},
   "outputs": [
    {
     "name": "stdout",
     "output_type": "stream",
     "text": [
      "<class 'pandas.core.frame.DataFrame'>\n",
      "Int64Index: 3796 entries, 0 to 599\n",
      "Data columns (total 9 columns):\n",
      " #   Column         Non-Null Count  Dtype \n",
      "---  ------         --------------  ----- \n",
      " 0   title          3796 non-null   object\n",
      " 1   company        3796 non-null   object\n",
      " 2   description    3796 non-null   object\n",
      " 3   onsite_remote  3796 non-null   object\n",
      " 4   salary         276 non-null    object\n",
      " 5   location       3796 non-null   object\n",
      " 6   criteria       3796 non-null   object\n",
      " 7   posted_date    3796 non-null   object\n",
      " 8   link           3796 non-null   object\n",
      "dtypes: object(9)\n",
      "memory usage: 296.6+ KB\n"
     ]
    }
   ],
   "source": [
    "df.info()"
   ]
  },
  {
   "cell_type": "code",
   "execution_count": 26,
   "id": "930dc02f",
   "metadata": {},
   "outputs": [
    {
     "data": {
      "text/plain": [
       "(3796, 9)"
      ]
     },
     "execution_count": 26,
     "metadata": {},
     "output_type": "execute_result"
    }
   ],
   "source": [
    "df.shape"
   ]
  },
  {
   "cell_type": "code",
   "execution_count": 34,
   "id": "dfd0b367",
   "metadata": {},
   "outputs": [
    {
     "data": {
      "text/plain": [
       "<AxesSubplot:>"
      ]
     },
     "execution_count": 34,
     "metadata": {},
     "output_type": "execute_result"
    },
    {
     "data": {
      "image/png": "[encoded data removed]",
      "text/plain": [
       "<Figure size 1008x576 with 2 Axes>"
      ]
     },
     "metadata": {
      "needs_background": "light"
     },
     "output_type": "display_data"
    }
   ],
   "source": [
    "plt.figure(figsize=(14,8))\n",
    "sns.heatmap(df.isnull(),cmap='Blues_r')"
   ]
  },
  {
   "cell_type": "code",
   "execution_count": 29,
   "id": "528f4fae",
   "metadata": {},
   "outputs": [
    {
     "data": {
      "text/plain": [
       "company\n",
       "8SEC                       5\n",
       "AACSB                     14\n",
       "AB Consulting GSS Inc.    14\n",
       "AH Group of Companies      1\n",
       "AIM KENNY U-PULL          11\n",
       "                          ..\n",
       "eHealth4everyone          17\n",
       "iHeartMedia                6\n",
       "k-ciopé                    8\n",
       "mothers2mothers           17\n",
       "takealot.com              13\n",
       "Name: title, Length: 314, dtype: int64"
      ]
     },
     "execution_count": 29,
     "metadata": {},
     "output_type": "execute_result"
    }
   ],
   "source": [
    "company=df.groupby('company')['title'].count()\n",
    "company"
   ]
  },
  {
   "cell_type": "markdown",
   "id": "9f16df25",
   "metadata": {},
   "source": [
    "<h3>Number of workstations compared to the mode</h3>"
   ]
  },
  {
   "cell_type": "code",
   "execution_count": 27,
   "id": "a72273b2",
   "metadata": {},
   "outputs": [
    {
     "data": {
      "text/plain": [
       "onsite_remote\n",
       "hybrid    1122\n",
       "onsite    1136\n",
       "remote    1538\n",
       "Name: title, dtype: int64"
      ]
     },
     "execution_count": 27,
     "metadata": {},
     "output_type": "execute_result"
    }
   ],
   "source": [
    "mode = df.groupby('onsite_remote')['title'].count()\n",
    "mode"
   ]
  },
  {
   "cell_type": "code",
   "execution_count": 32,
   "id": "d9e8352a",
   "metadata": {},
   "outputs": [
    {
     "name": "stderr",
     "output_type": "stream",
     "text": [
      "C:\\Users\\HP\\anaconda3\\lib\\site-packages\\seaborn\\_decorators.py:36: FutureWarning: Pass the following variable as a keyword arg: x. From version 0.12, the only valid positional argument will be `data`, and passing other arguments without an explicit keyword will result in an error or misinterpretation.\n",
      "  warnings.warn(\n"
     ]
    },
    {
     "data": {
      "image/png": "[encoded data removed]",
      "text/plain": [
       "<Figure size 432x288 with 1 Axes>"
      ]
     },
     "metadata": {
      "needs_background": "light"
     },
     "output_type": "display_data"
    }
   ],
   "source": [
    "sns.countplot(df.onsite_remote)\n",
    "\n",
    "plt.xlabel('Job Types')\n",
    "plt.ylabel('Posted Jobs')\n",
    "plt.title('Job Posts vs Job Types')\n",
    "\n",
    "\n",
    "plt.show()"
   ]
  },
  {
   "cell_type": "markdown",
   "id": "e9b6fa23",
   "metadata": {},
   "source": [
    "Many jobs have an infrastructure that depends on remote types of jobs"
   ]
  },
  {
   "cell_type": "markdown",
   "id": "13fb39a8",
   "metadata": {},
   "source": [
    "<h3>Number of job posts by each quarter</h3>"
   ]
  },
  {
   "cell_type": "code",
   "execution_count": 43,
   "id": "e8369bcc",
   "metadata": {},
   "outputs": [
    {
     "data": {
      "image/png": "[encoded data removed]",
      "text/plain": [
       "<Figure size 432x288 with 1 Axes>"
      ]
     },
     "metadata": {
      "needs_background": "light"
     },
     "output_type": "display_data"
    }
   ],
   "source": [
    "df['month'] = pd.DatetimeIndex(df['posted_date']).month\n",
    "df['quarter'] = pd.DatetimeIndex(df['posted_date']).quarter\n",
    "sns.countplot(data=df,y='quarter',palette='Blues')\n",
    "plt.show()"
   ]
  },
  {
   "cell_type": "code",
   "execution_count": 45,
   "id": "c777fa5f",
   "metadata": {},
   "outputs": [
    {
     "name": "stderr",
     "output_type": "stream",
     "text": [
      "C:\\Users\\HP\\anaconda3\\lib\\site-packages\\seaborn\\_decorators.py:36: FutureWarning: Pass the following variable as a keyword arg: x. From version 0.12, the only valid positional argument will be `data`, and passing other arguments without an explicit keyword will result in an error or misinterpretation.\n",
      "  warnings.warn(\n"
     ]
    },
    {
     "data": {
      "image/png": "[encoded data removed]",
      "text/plain": [
       "<Figure size 576x360 with 1 Axes>"
      ]
     },
     "metadata": {
      "needs_background": "light"
     },
     "output_type": "display_data"
    }
   ],
   "source": [
    "plt.figure(figsize=(8,5))\n",
    "sns.countplot(df['month'],palette='Blues')\n",
    "plt.show()"
   ]
  },
  {
   "cell_type": "markdown",
   "id": "bdaa7a88",
   "metadata": {},
   "source": [
    "a lot of work is posted in the 1st quarter"
   ]
  },
  {
   "cell_type": "markdown",
   "id": "d3b698f9",
   "metadata": {},
   "source": [
    "<h3>Top 3 companies with the most jobs posting by month</h3>"
   ]
  },
  {
   "cell_type": "code",
   "execution_count": 47,
   "id": "ad6f4518",
   "metadata": {},
   "outputs": [
    {
     "name": "stdout",
     "output_type": "stream",
     "text": [
      "Month 1\n",
      "TELUS International    334\n",
      "Turing                  55\n",
      "The Tech Galore         38\n",
      "Name: company, dtype: int64\n",
      "----------------------------------\n",
      "Month 11\n",
      "dLocal         16\n",
      "Watu Credit    13\n",
      "B3 Systems     11\n",
      "Name: company, dtype: int64\n",
      "----------------------------------\n",
      "Month 2\n",
      "Trioworld    99\n",
      "Ornikar      23\n",
      "Camunda      22\n",
      "Name: company, dtype: int64\n",
      "----------------------------------\n",
      "Month 12\n",
      "Turing             69\n",
      "RPO Recruitment    52\n",
      "Dentons            33\n",
      "Name: company, dtype: int64\n",
      "----------------------------------\n",
      "Month 10\n",
      "Teads    5\n",
      "Name: company, dtype: int64\n",
      "----------------------------------\n"
     ]
    }
   ],
   "source": [
    "for i in df['month'].unique():\n",
    "    print(\"Month\",i)\n",
    "    print(df[df['month'] == i]['company'].value_counts().head(3))\n",
    "    print(\"----------------------------------\")"
   ]
  },
  {
   "cell_type": "markdown",
   "id": "439f4f92",
   "metadata": {},
   "source": [
    "<h3>Top 3 companies with the least jobs posting by month</h3>"
   ]
  },
  {
   "cell_type": "code",
   "execution_count": 48,
   "id": "62ce55c8",
   "metadata": {},
   "outputs": [
    {
     "name": "stdout",
     "output_type": "stream",
     "text": [
      "Month 1\n",
      "ALTEN PROEX               1\n",
      "AB Consulting GSS Inc.    1\n",
      "REI Systems               1\n",
      "Name: company, dtype: int64\n",
      "----------------------------------\n",
      "Month 11\n",
      "Mattermost            1\n",
      "Tumaini Consulting    1\n",
      "Ornikar               1\n",
      "Name: company, dtype: int64\n",
      "----------------------------------\n",
      "Month 2\n",
      "Strivernet RPO Services    1\n",
      "Boqueria Restaurants       1\n",
      "Safaricom PLC              1\n",
      "Name: company, dtype: int64\n",
      "----------------------------------\n",
      "Month 12\n",
      "Nigel Frank International    1\n",
      "Local Logic                  1\n",
      "Diverse Lynx                 1\n",
      "Name: company, dtype: int64\n",
      "----------------------------------\n",
      "Month 10\n",
      "Teads    5\n",
      "Name: company, dtype: int64\n",
      "----------------------------------\n"
     ]
    }
   ],
   "source": [
    "for i in df['month'].unique():\n",
    "    print(\"Month\",i)\n",
    "    print(df[df['month'] == i]['company'].value_counts().tail(3))\n",
    "    print(\"----------------------------------\")"
   ]
  }
 ],
 "metadata": {
  "kernelspec": {
   "display_name": "Python 3 (ipykernel)",
   "language": "python",
   "name": "python3"
  },
  "language_info": {
   "codemirror_mode": {
    "name": "ipython",
    "version": 3
   },
   "file_extension": ".py",
   "mimetype": "text/x-python",
   "name": "python",
   "nbconvert_exporter": "python",
   "pygments_lexer": "ipython3",
   "version": "3.9.12"
  }
 },
 "nbformat": 4,
 "nbformat_minor": 5
}
